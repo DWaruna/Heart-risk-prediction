{
 "cells": [
  {
   "cell_type": "code",
   "execution_count": 1,
   "id": "a1f0d8fd",
   "metadata": {},
   "outputs": [],
   "source": [
    "import pandas as pd\n",
    "import numpy as np\n",
    "import matplotlib.pyplot as plt"
   ]
  },
  {
   "cell_type": "code",
   "execution_count": 2,
   "id": "576db9ce",
   "metadata": {},
   "outputs": [
    {
     "data": {
      "text/html": [
       "<div>\n",
       "<style scoped>\n",
       "    .dataframe tbody tr th:only-of-type {\n",
       "        vertical-align: middle;\n",
       "    }\n",
       "\n",
       "    .dataframe tbody tr th {\n",
       "        vertical-align: top;\n",
       "    }\n",
       "\n",
       "    .dataframe thead th {\n",
       "        text-align: right;\n",
       "    }\n",
       "</style>\n",
       "<table border=\"1\" class=\"dataframe\">\n",
       "  <thead>\n",
       "    <tr style=\"text-align: right;\">\n",
       "      <th></th>\n",
       "      <th>SEX</th>\n",
       "      <th>AGEIR</th>\n",
       "      <th>TC</th>\n",
       "      <th>HDL</th>\n",
       "      <th>SMOKE_</th>\n",
       "      <th>BPMED</th>\n",
       "      <th>DIAB_01</th>\n",
       "      <th>RISK</th>\n",
       "    </tr>\n",
       "  </thead>\n",
       "  <tbody>\n",
       "    <tr>\n",
       "      <th>0</th>\n",
       "      <td>1</td>\n",
       "      <td>48</td>\n",
       "      <td>236</td>\n",
       "      <td>66</td>\n",
       "      <td>0</td>\n",
       "      <td>1</td>\n",
       "      <td>0</td>\n",
       "      <td>1.1</td>\n",
       "    </tr>\n",
       "    <tr>\n",
       "      <th>1</th>\n",
       "      <td>0</td>\n",
       "      <td>48</td>\n",
       "      <td>260</td>\n",
       "      <td>51</td>\n",
       "      <td>0</td>\n",
       "      <td>1</td>\n",
       "      <td>1</td>\n",
       "      <td>7.0</td>\n",
       "    </tr>\n",
       "    <tr>\n",
       "      <th>2</th>\n",
       "      <td>0</td>\n",
       "      <td>44</td>\n",
       "      <td>187</td>\n",
       "      <td>49</td>\n",
       "      <td>1</td>\n",
       "      <td>1</td>\n",
       "      <td>0</td>\n",
       "      <td>7.0</td>\n",
       "    </tr>\n",
       "    <tr>\n",
       "      <th>3</th>\n",
       "      <td>1</td>\n",
       "      <td>42</td>\n",
       "      <td>216</td>\n",
       "      <td>57</td>\n",
       "      <td>1</td>\n",
       "      <td>1</td>\n",
       "      <td>0</td>\n",
       "      <td>0.4</td>\n",
       "    </tr>\n",
       "    <tr>\n",
       "      <th>4</th>\n",
       "      <td>1</td>\n",
       "      <td>56</td>\n",
       "      <td>156</td>\n",
       "      <td>42</td>\n",
       "      <td>0</td>\n",
       "      <td>1</td>\n",
       "      <td>0</td>\n",
       "      <td>2.2</td>\n",
       "    </tr>\n",
       "  </tbody>\n",
       "</table>\n",
       "</div>"
      ],
      "text/plain": [
       "   SEX  AGEIR   TC  HDL  SMOKE_  BPMED  DIAB_01  RISK\n",
       "0    1     48  236   66       0      1        0   1.1\n",
       "1    0     48  260   51       0      1        1   7.0\n",
       "2    0     44  187   49       1      1        0   7.0\n",
       "3    1     42  216   57       1      1        0   0.4\n",
       "4    1     56  156   42       0      1        0   2.2"
      ]
     },
     "execution_count": 2,
     "metadata": {},
     "output_type": "execute_result"
    }
   ],
   "source": [
    "df = pd.read_csv('cardio_dataset.csv')\n",
    "df.head()"
   ]
  },
  {
   "cell_type": "code",
   "execution_count": 3,
   "id": "23beabec",
   "metadata": {},
   "outputs": [
    {
     "data": {
      "text/plain": [
       "SEX        0\n",
       "AGEIR      0\n",
       "TC         0\n",
       "HDL        0\n",
       "SMOKE_     0\n",
       "BPMED      0\n",
       "DIAB_01    0\n",
       "RISK       0\n",
       "dtype: int64"
      ]
     },
     "execution_count": 3,
     "metadata": {},
     "output_type": "execute_result"
    }
   ],
   "source": [
    "df.isnull().sum()"
   ]
  },
  {
   "cell_type": "code",
   "execution_count": 4,
   "id": "954d627d",
   "metadata": {},
   "outputs": [
    {
     "data": {
      "text/plain": [
       "0"
      ]
     },
     "execution_count": 4,
     "metadata": {},
     "output_type": "execute_result"
    }
   ],
   "source": [
    "df.duplicated().sum()"
   ]
  },
  {
   "cell_type": "code",
   "execution_count": 5,
   "id": "df4e23a0",
   "metadata": {},
   "outputs": [],
   "source": [
    "dataset = df.values\n",
    "data = dataset[:,0:7]\n",
    "target = dataset[:,7]"
   ]
  },
  {
   "cell_type": "code",
   "execution_count": 7,
   "id": "808a2421",
   "metadata": {},
   "outputs": [
    {
     "name": "stdout",
     "output_type": "stream",
     "text": [
      "(6644, 7)\n",
      "(6644,)\n"
     ]
    }
   ],
   "source": [
    "print(data.shape)\n",
    "print(target.shape)"
   ]
  },
  {
   "cell_type": "markdown",
   "id": "3f4aa56d",
   "metadata": {},
   "source": [
    "# scaling"
   ]
  },
  {
   "cell_type": "code",
   "execution_count": 8,
   "id": "8722c747",
   "metadata": {},
   "outputs": [],
   "source": [
    "from sklearn.preprocessing import MinMaxScaler\n",
    "\n",
    "target = np.reshape(target,(-1,1)) #convert 2D coloum vector\n",
    "\n",
    "scaler_data = MinMaxScaler()\n",
    "scaler_target = MinMaxScaler()\n",
    "\n",
    "scaler_data.fit(data)\n",
    "scaler_target.fit(target)\n",
    "\n",
    "data_scaled = scaler_data.transform(data)\n",
    "target_scaled = scaler_target.transform(target)"
   ]
  },
  {
   "cell_type": "markdown",
   "id": "18e1fa0e",
   "metadata": {},
   "source": [
    "# Train Test Split"
   ]
  },
  {
   "cell_type": "code",
   "execution_count": 9,
   "id": "883f8d3b",
   "metadata": {},
   "outputs": [],
   "source": [
    "from sklearn.model_selection import train_test_split\n",
    "\n",
    "train_data,test_data,train_tagrt,test_target =  train_test_split(data_scaled,target_scaled,test_size=0.2)"
   ]
  },
  {
   "cell_type": "code",
   "execution_count": 10,
   "id": "4d8d7812",
   "metadata": {},
   "outputs": [
    {
     "name": "stdout",
     "output_type": "stream",
     "text": [
      "(1329, 7)\n",
      "(5315, 7)\n"
     ]
    }
   ],
   "source": [
    "print(test_data.shape)\n",
    "print(train_data.shape)"
   ]
  },
  {
   "cell_type": "markdown",
   "id": "435ad9a2",
   "metadata": {},
   "source": [
    "# FNNN Model"
   ]
  },
  {
   "cell_type": "code",
   "execution_count": 36,
   "id": "bfddb6b4",
   "metadata": {},
   "outputs": [
    {
     "name": "stdout",
     "output_type": "stream",
     "text": [
      "Model: \"sequential_7\"\n",
      "_________________________________________________________________\n",
      " Layer (type)                Output Shape              Param #   \n",
      "=================================================================\n",
      " dense_25 (Dense)            (None, 64)                512       \n",
      "                                                                 \n",
      " dropout_12 (Dropout)        (None, 64)                0         \n",
      "                                                                 \n",
      " dense_26 (Dense)            (None, 64)                4160      \n",
      "                                                                 \n",
      " dropout_13 (Dropout)        (None, 64)                0         \n",
      "                                                                 \n",
      " dense_27 (Dense)            (None, 10)                650       \n",
      "                                                                 \n",
      " dense_28 (Dense)            (None, 1)                 11        \n",
      "                                                                 \n",
      "=================================================================\n",
      "Total params: 5,333\n",
      "Trainable params: 5,333\n",
      "Non-trainable params: 0\n",
      "_________________________________________________________________\n",
      "None\n"
     ]
    }
   ],
   "source": [
    "from keras import models\n",
    "from keras import layers\n",
    "import numpy as np\n",
    "\n",
    "model = models.Sequential()\n",
    "model.add(layers.Dense(64,input_dim = 7,activation = 'tanh'))\n",
    "model.add(layers.Dropout(0.2))\n",
    "model.add(layers.Dense(64,activation='tanh'))\n",
    "model.add(layers.Dropout(0.1))\n",
    "model.add(layers.Dense(10,activation='tanh'))\n",
    "model.add(layers.Dense(1,activation='linear'))\n",
    "\n",
    "model.compile(optimizer='adam',loss='mse',metrics=['mse','mae'])\n",
    "print(model.summary())"
   ]
  },
  {
   "cell_type": "code",
   "execution_count": 37,
   "id": "4221509f",
   "metadata": {},
   "outputs": [
    {
     "name": "stdout",
     "output_type": "stream",
     "text": [
      "Epoch 1/200\n",
      "167/167 [==============================] - 1s 3ms/step - loss: 0.0262 - mse: 0.0262 - mae: 0.1191 - val_loss: 0.0065 - val_mse: 0.0065 - val_mae: 0.0557\n",
      "Epoch 2/200\n",
      "167/167 [==============================] - 0s 2ms/step - loss: 0.0099 - mse: 0.0099 - mae: 0.0730 - val_loss: 0.0056 - val_mse: 0.0056 - val_mae: 0.0495\n",
      "Epoch 3/200\n",
      "167/167 [==============================] - 0s 2ms/step - loss: 0.0076 - mse: 0.0076 - mae: 0.0621 - val_loss: 0.0046 - val_mse: 0.0046 - val_mae: 0.0430\n",
      "Epoch 4/200\n",
      "167/167 [==============================] - 0s 2ms/step - loss: 0.0067 - mse: 0.0067 - mae: 0.0567 - val_loss: 0.0044 - val_mse: 0.0044 - val_mae: 0.0444\n",
      "Epoch 5/200\n",
      "167/167 [==============================] - 0s 2ms/step - loss: 0.0060 - mse: 0.0060 - mae: 0.0529 - val_loss: 0.0041 - val_mse: 0.0041 - val_mae: 0.0396\n",
      "Epoch 6/200\n",
      "167/167 [==============================] - 0s 2ms/step - loss: 0.0057 - mse: 0.0057 - mae: 0.0511 - val_loss: 0.0040 - val_mse: 0.0040 - val_mae: 0.0389\n",
      "Epoch 7/200\n",
      "167/167 [==============================] - 0s 2ms/step - loss: 0.0054 - mse: 0.0054 - mae: 0.0496 - val_loss: 0.0038 - val_mse: 0.0038 - val_mae: 0.0373\n",
      "Epoch 8/200\n",
      "167/167 [==============================] - 0s 2ms/step - loss: 0.0051 - mse: 0.0051 - mae: 0.0475 - val_loss: 0.0036 - val_mse: 0.0036 - val_mae: 0.0375\n",
      "Epoch 9/200\n",
      "167/167 [==============================] - 0s 2ms/step - loss: 0.0049 - mse: 0.0049 - mae: 0.0463 - val_loss: 0.0038 - val_mse: 0.0038 - val_mae: 0.0368\n",
      "Epoch 10/200\n",
      "167/167 [==============================] - 0s 2ms/step - loss: 0.0047 - mse: 0.0047 - mae: 0.0456 - val_loss: 0.0038 - val_mse: 0.0038 - val_mae: 0.0392\n",
      "Epoch 11/200\n",
      "167/167 [==============================] - 0s 2ms/step - loss: 0.0047 - mse: 0.0047 - mae: 0.0454 - val_loss: 0.0036 - val_mse: 0.0036 - val_mae: 0.0355\n",
      "Epoch 12/200\n",
      "167/167 [==============================] - 0s 2ms/step - loss: 0.0045 - mse: 0.0045 - mae: 0.0443 - val_loss: 0.0036 - val_mse: 0.0036 - val_mae: 0.0381\n",
      "Epoch 13/200\n",
      "167/167 [==============================] - 0s 2ms/step - loss: 0.0044 - mse: 0.0044 - mae: 0.0436 - val_loss: 0.0036 - val_mse: 0.0036 - val_mae: 0.0364\n",
      "Epoch 14/200\n",
      "167/167 [==============================] - 0s 2ms/step - loss: 0.0043 - mse: 0.0043 - mae: 0.0428 - val_loss: 0.0036 - val_mse: 0.0036 - val_mae: 0.0391\n",
      "Epoch 15/200\n",
      "167/167 [==============================] - 0s 3ms/step - loss: 0.0043 - mse: 0.0043 - mae: 0.0429 - val_loss: 0.0035 - val_mse: 0.0035 - val_mae: 0.0376\n",
      "Epoch 16/200\n",
      "167/167 [==============================] - 0s 3ms/step - loss: 0.0043 - mse: 0.0043 - mae: 0.0428 - val_loss: 0.0033 - val_mse: 0.0033 - val_mae: 0.0351\n",
      "Epoch 17/200\n",
      "167/167 [==============================] - 0s 2ms/step - loss: 0.0042 - mse: 0.0042 - mae: 0.0424 - val_loss: 0.0035 - val_mse: 0.0035 - val_mae: 0.0361\n",
      "Epoch 18/200\n",
      "167/167 [==============================] - 0s 2ms/step - loss: 0.0043 - mse: 0.0043 - mae: 0.0428 - val_loss: 0.0034 - val_mse: 0.0034 - val_mae: 0.0374\n",
      "Epoch 19/200\n",
      "167/167 [==============================] - 0s 2ms/step - loss: 0.0041 - mse: 0.0041 - mae: 0.0412 - val_loss: 0.0033 - val_mse: 0.0033 - val_mae: 0.0353\n",
      "Epoch 20/200\n",
      "167/167 [==============================] - 0s 3ms/step - loss: 0.0040 - mse: 0.0040 - mae: 0.0408 - val_loss: 0.0037 - val_mse: 0.0037 - val_mae: 0.0368\n",
      "Epoch 21/200\n",
      "167/167 [==============================] - 0s 2ms/step - loss: 0.0039 - mse: 0.0039 - mae: 0.0407 - val_loss: 0.0032 - val_mse: 0.0032 - val_mae: 0.0359\n",
      "Epoch 22/200\n",
      "167/167 [==============================] - 1s 4ms/step - loss: 0.0039 - mse: 0.0039 - mae: 0.0397 - val_loss: 0.0034 - val_mse: 0.0034 - val_mae: 0.0365\n",
      "Epoch 23/200\n",
      "167/167 [==============================] - 0s 2ms/step - loss: 0.0038 - mse: 0.0038 - mae: 0.0401 - val_loss: 0.0036 - val_mse: 0.0036 - val_mae: 0.0421\n",
      "Epoch 24/200\n",
      "167/167 [==============================] - 0s 2ms/step - loss: 0.0037 - mse: 0.0037 - mae: 0.0398 - val_loss: 0.0031 - val_mse: 0.0031 - val_mae: 0.0332\n",
      "Epoch 25/200\n",
      "167/167 [==============================] - 0s 2ms/step - loss: 0.0037 - mse: 0.0037 - mae: 0.0386 - val_loss: 0.0032 - val_mse: 0.0032 - val_mae: 0.0357\n",
      "Epoch 26/200\n",
      "167/167 [==============================] - 0s 3ms/step - loss: 0.0038 - mse: 0.0038 - mae: 0.0394 - val_loss: 0.0033 - val_mse: 0.0033 - val_mae: 0.0368\n",
      "Epoch 27/200\n",
      "167/167 [==============================] - 1s 3ms/step - loss: 0.0037 - mse: 0.0037 - mae: 0.0391 - val_loss: 0.0030 - val_mse: 0.0030 - val_mae: 0.0330\n",
      "Epoch 28/200\n",
      "167/167 [==============================] - 1s 3ms/step - loss: 0.0037 - mse: 0.0037 - mae: 0.0391 - val_loss: 0.0034 - val_mse: 0.0034 - val_mae: 0.0406\n",
      "Epoch 29/200\n",
      "167/167 [==============================] - 1s 3ms/step - loss: 0.0036 - mse: 0.0036 - mae: 0.0385 - val_loss: 0.0030 - val_mse: 0.0030 - val_mae: 0.0330\n",
      "Epoch 30/200\n",
      "167/167 [==============================] - 0s 3ms/step - loss: 0.0036 - mse: 0.0036 - mae: 0.0381 - val_loss: 0.0029 - val_mse: 0.0029 - val_mae: 0.0325\n",
      "Epoch 31/200\n",
      "167/167 [==============================] - 1s 3ms/step - loss: 0.0036 - mse: 0.0036 - mae: 0.0385 - val_loss: 0.0032 - val_mse: 0.0032 - val_mae: 0.0351\n",
      "Epoch 32/200\n",
      "167/167 [==============================] - 0s 3ms/step - loss: 0.0036 - mse: 0.0036 - mae: 0.0390 - val_loss: 0.0030 - val_mse: 0.0030 - val_mae: 0.0322\n",
      "Epoch 33/200\n",
      "167/167 [==============================] - 0s 3ms/step - loss: 0.0035 - mse: 0.0035 - mae: 0.0375 - val_loss: 0.0031 - val_mse: 0.0031 - val_mae: 0.0339\n",
      "Epoch 34/200\n",
      "167/167 [==============================] - 0s 3ms/step - loss: 0.0035 - mse: 0.0035 - mae: 0.0378 - val_loss: 0.0032 - val_mse: 0.0032 - val_mae: 0.0345\n",
      "Epoch 35/200\n",
      "167/167 [==============================] - 1s 3ms/step - loss: 0.0035 - mse: 0.0035 - mae: 0.0378 - val_loss: 0.0030 - val_mse: 0.0030 - val_mae: 0.0345\n",
      "Epoch 36/200\n",
      "167/167 [==============================] - 0s 3ms/step - loss: 0.0035 - mse: 0.0035 - mae: 0.0380 - val_loss: 0.0035 - val_mse: 0.0035 - val_mae: 0.0438\n",
      "Epoch 37/200\n",
      "167/167 [==============================] - 0s 3ms/step - loss: 0.0035 - mse: 0.0035 - mae: 0.0381 - val_loss: 0.0030 - val_mse: 0.0030 - val_mae: 0.0324\n",
      "Epoch 38/200\n",
      "167/167 [==============================] - 0s 3ms/step - loss: 0.0034 - mse: 0.0034 - mae: 0.0371 - val_loss: 0.0030 - val_mse: 0.0030 - val_mae: 0.0332\n",
      "Epoch 39/200\n",
      "167/167 [==============================] - 0s 3ms/step - loss: 0.0034 - mse: 0.0034 - mae: 0.0369 - val_loss: 0.0032 - val_mse: 0.0032 - val_mae: 0.0383\n",
      "Epoch 40/200\n",
      "167/167 [==============================] - 0s 3ms/step - loss: 0.0035 - mse: 0.0035 - mae: 0.0372 - val_loss: 0.0031 - val_mse: 0.0031 - val_mae: 0.0334\n",
      "Epoch 41/200\n",
      "167/167 [==============================] - 1s 3ms/step - loss: 0.0036 - mse: 0.0036 - mae: 0.0387 - val_loss: 0.0031 - val_mse: 0.0031 - val_mae: 0.0339\n",
      "Epoch 42/200\n",
      "167/167 [==============================] - 0s 3ms/step - loss: 0.0035 - mse: 0.0035 - mae: 0.0379 - val_loss: 0.0030 - val_mse: 0.0030 - val_mae: 0.0365\n",
      "Epoch 43/200\n",
      "167/167 [==============================] - 1s 3ms/step - loss: 0.0033 - mse: 0.0033 - mae: 0.0367 - val_loss: 0.0032 - val_mse: 0.0032 - val_mae: 0.0321\n",
      "Epoch 44/200\n",
      "167/167 [==============================] - 1s 4ms/step - loss: 0.0034 - mse: 0.0034 - mae: 0.0368 - val_loss: 0.0032 - val_mse: 0.0032 - val_mae: 0.0326\n",
      "Epoch 45/200\n",
      "167/167 [==============================] - 1s 3ms/step - loss: 0.0035 - mse: 0.0035 - mae: 0.0384 - val_loss: 0.0029 - val_mse: 0.0029 - val_mae: 0.0317\n",
      "Epoch 46/200\n",
      "167/167 [==============================] - 1s 3ms/step - loss: 0.0035 - mse: 0.0035 - mae: 0.0381 - val_loss: 0.0031 - val_mse: 0.0031 - val_mae: 0.0333\n",
      "Epoch 47/200\n",
      "167/167 [==============================] - 1s 3ms/step - loss: 0.0035 - mse: 0.0035 - mae: 0.0380 - val_loss: 0.0029 - val_mse: 0.0029 - val_mae: 0.0338\n",
      "Epoch 48/200\n",
      "167/167 [==============================] - 0s 3ms/step - loss: 0.0033 - mse: 0.0033 - mae: 0.0367 - val_loss: 0.0030 - val_mse: 0.0030 - val_mae: 0.0337\n",
      "Epoch 49/200\n",
      "167/167 [==============================] - 1s 3ms/step - loss: 0.0034 - mse: 0.0034 - mae: 0.0371 - val_loss: 0.0030 - val_mse: 0.0030 - val_mae: 0.0324\n",
      "Epoch 50/200\n"
     ]
    },
    {
     "name": "stdout",
     "output_type": "stream",
     "text": [
      "167/167 [==============================] - 0s 3ms/step - loss: 0.0034 - mse: 0.0034 - mae: 0.0367 - val_loss: 0.0029 - val_mse: 0.0029 - val_mae: 0.0323\n",
      "Epoch 51/200\n",
      "167/167 [==============================] - 0s 3ms/step - loss: 0.0034 - mse: 0.0034 - mae: 0.0364 - val_loss: 0.0030 - val_mse: 0.0030 - val_mae: 0.0350\n",
      "Epoch 52/200\n",
      "167/167 [==============================] - 1s 3ms/step - loss: 0.0033 - mse: 0.0033 - mae: 0.0368 - val_loss: 0.0033 - val_mse: 0.0033 - val_mae: 0.0399\n",
      "Epoch 53/200\n",
      "167/167 [==============================] - 1s 3ms/step - loss: 0.0034 - mse: 0.0034 - mae: 0.0368 - val_loss: 0.0029 - val_mse: 0.0029 - val_mae: 0.0320\n",
      "Epoch 54/200\n",
      "167/167 [==============================] - 0s 3ms/step - loss: 0.0034 - mse: 0.0034 - mae: 0.0374 - val_loss: 0.0036 - val_mse: 0.0036 - val_mae: 0.0378\n",
      "Epoch 55/200\n",
      "167/167 [==============================] - 1s 3ms/step - loss: 0.0033 - mse: 0.0033 - mae: 0.0368 - val_loss: 0.0034 - val_mse: 0.0034 - val_mae: 0.0337\n",
      "Epoch 56/200\n",
      "167/167 [==============================] - 1s 3ms/step - loss: 0.0034 - mse: 0.0034 - mae: 0.0372 - val_loss: 0.0030 - val_mse: 0.0030 - val_mae: 0.0348\n",
      "Epoch 57/200\n",
      "167/167 [==============================] - 1s 3ms/step - loss: 0.0033 - mse: 0.0033 - mae: 0.0367 - val_loss: 0.0031 - val_mse: 0.0031 - val_mae: 0.0340\n",
      "Epoch 58/200\n",
      "167/167 [==============================] - 0s 3ms/step - loss: 0.0033 - mse: 0.0033 - mae: 0.0360 - val_loss: 0.0029 - val_mse: 0.0029 - val_mae: 0.0331\n",
      "Epoch 59/200\n",
      "167/167 [==============================] - 0s 3ms/step - loss: 0.0033 - mse: 0.0033 - mae: 0.0362 - val_loss: 0.0032 - val_mse: 0.0032 - val_mae: 0.0341\n",
      "Epoch 60/200\n",
      "167/167 [==============================] - 1s 4ms/step - loss: 0.0033 - mse: 0.0033 - mae: 0.0365 - val_loss: 0.0029 - val_mse: 0.0029 - val_mae: 0.0337\n",
      "Epoch 61/200\n",
      "167/167 [==============================] - 1s 4ms/step - loss: 0.0035 - mse: 0.0035 - mae: 0.0377 - val_loss: 0.0034 - val_mse: 0.0034 - val_mae: 0.0337\n",
      "Epoch 62/200\n",
      "167/167 [==============================] - 1s 3ms/step - loss: 0.0034 - mse: 0.0034 - mae: 0.0367 - val_loss: 0.0030 - val_mse: 0.0030 - val_mae: 0.0351\n",
      "Epoch 63/200\n",
      "167/167 [==============================] - 0s 3ms/step - loss: 0.0033 - mse: 0.0033 - mae: 0.0365 - val_loss: 0.0034 - val_mse: 0.0034 - val_mae: 0.0354\n",
      "Epoch 64/200\n",
      "167/167 [==============================] - 0s 3ms/step - loss: 0.0035 - mse: 0.0035 - mae: 0.0375 - val_loss: 0.0034 - val_mse: 0.0034 - val_mae: 0.0353\n",
      "Epoch 65/200\n",
      "167/167 [==============================] - 1s 3ms/step - loss: 0.0033 - mse: 0.0033 - mae: 0.0368 - val_loss: 0.0033 - val_mse: 0.0033 - val_mae: 0.0359\n",
      "Epoch 66/200\n",
      "167/167 [==============================] - 1s 3ms/step - loss: 0.0033 - mse: 0.0033 - mae: 0.0371 - val_loss: 0.0031 - val_mse: 0.0031 - val_mae: 0.0352\n",
      "Epoch 67/200\n",
      "167/167 [==============================] - 1s 3ms/step - loss: 0.0034 - mse: 0.0034 - mae: 0.0368 - val_loss: 0.0030 - val_mse: 0.0030 - val_mae: 0.0352\n",
      "Epoch 68/200\n",
      "167/167 [==============================] - 1s 3ms/step - loss: 0.0034 - mse: 0.0034 - mae: 0.0374 - val_loss: 0.0031 - val_mse: 0.0031 - val_mae: 0.0362\n",
      "Epoch 69/200\n",
      "167/167 [==============================] - 1s 3ms/step - loss: 0.0033 - mse: 0.0033 - mae: 0.0368 - val_loss: 0.0029 - val_mse: 0.0029 - val_mae: 0.0322\n",
      "Epoch 70/200\n",
      "167/167 [==============================] - 0s 3ms/step - loss: 0.0035 - mse: 0.0035 - mae: 0.0371 - val_loss: 0.0029 - val_mse: 0.0029 - val_mae: 0.0327\n",
      "Epoch 71/200\n",
      "167/167 [==============================] - 0s 3ms/step - loss: 0.0033 - mse: 0.0033 - mae: 0.0366 - val_loss: 0.0030 - val_mse: 0.0030 - val_mae: 0.0323\n",
      "Epoch 72/200\n",
      "167/167 [==============================] - 1s 3ms/step - loss: 0.0032 - mse: 0.0032 - mae: 0.0360 - val_loss: 0.0047 - val_mse: 0.0047 - val_mae: 0.0511\n",
      "Epoch 73/200\n",
      "167/167 [==============================] - 0s 3ms/step - loss: 0.0037 - mse: 0.0037 - mae: 0.0394 - val_loss: 0.0035 - val_mse: 0.0035 - val_mae: 0.0405\n",
      "Epoch 74/200\n",
      "167/167 [==============================] - 1s 3ms/step - loss: 0.0033 - mse: 0.0033 - mae: 0.0359 - val_loss: 0.0031 - val_mse: 0.0031 - val_mae: 0.0326\n",
      "Epoch 75/200\n",
      "167/167 [==============================] - 0s 3ms/step - loss: 0.0033 - mse: 0.0033 - mae: 0.0366 - val_loss: 0.0030 - val_mse: 0.0030 - val_mae: 0.0336\n",
      "Epoch 76/200\n",
      "167/167 [==============================] - 1s 3ms/step - loss: 0.0034 - mse: 0.0034 - mae: 0.0369 - val_loss: 0.0030 - val_mse: 0.0030 - val_mae: 0.0340\n",
      "Epoch 77/200\n",
      "167/167 [==============================] - 1s 3ms/step - loss: 0.0033 - mse: 0.0033 - mae: 0.0361 - val_loss: 0.0035 - val_mse: 0.0035 - val_mae: 0.0414\n",
      "Epoch 78/200\n",
      "167/167 [==============================] - 0s 3ms/step - loss: 0.0035 - mse: 0.0035 - mae: 0.0380 - val_loss: 0.0029 - val_mse: 0.0029 - val_mae: 0.0330\n",
      "Epoch 79/200\n",
      "167/167 [==============================] - 1s 3ms/step - loss: 0.0033 - mse: 0.0033 - mae: 0.0366 - val_loss: 0.0032 - val_mse: 0.0032 - val_mae: 0.0357\n",
      "Epoch 80/200\n",
      "167/167 [==============================] - 1s 3ms/step - loss: 0.0033 - mse: 0.0033 - mae: 0.0365 - val_loss: 0.0031 - val_mse: 0.0031 - val_mae: 0.0329\n",
      "Epoch 81/200\n",
      "167/167 [==============================] - 1s 3ms/step - loss: 0.0032 - mse: 0.0032 - mae: 0.0356 - val_loss: 0.0034 - val_mse: 0.0034 - val_mae: 0.0328\n",
      "Epoch 82/200\n",
      "167/167 [==============================] - 1s 3ms/step - loss: 0.0033 - mse: 0.0033 - mae: 0.0360 - val_loss: 0.0029 - val_mse: 0.0029 - val_mae: 0.0332\n",
      "Epoch 83/200\n",
      "167/167 [==============================] - 1s 3ms/step - loss: 0.0032 - mse: 0.0032 - mae: 0.0362 - val_loss: 0.0029 - val_mse: 0.0029 - val_mae: 0.0328\n",
      "Epoch 84/200\n",
      "167/167 [==============================] - 1s 3ms/step - loss: 0.0032 - mse: 0.0032 - mae: 0.0358 - val_loss: 0.0029 - val_mse: 0.0029 - val_mae: 0.0320\n",
      "Epoch 85/200\n",
      "167/167 [==============================] - 0s 3ms/step - loss: 0.0033 - mse: 0.0033 - mae: 0.0362 - val_loss: 0.0031 - val_mse: 0.0031 - val_mae: 0.0368\n",
      "Epoch 86/200\n",
      "167/167 [==============================] - 0s 3ms/step - loss: 0.0033 - mse: 0.0033 - mae: 0.0366 - val_loss: 0.0032 - val_mse: 0.0032 - val_mae: 0.0350\n",
      "Epoch 87/200\n",
      "167/167 [==============================] - 0s 3ms/step - loss: 0.0032 - mse: 0.0032 - mae: 0.0359 - val_loss: 0.0032 - val_mse: 0.0032 - val_mae: 0.0361\n",
      "Epoch 88/200\n",
      "167/167 [==============================] - 1s 3ms/step - loss: 0.0033 - mse: 0.0033 - mae: 0.0361 - val_loss: 0.0029 - val_mse: 0.0029 - val_mae: 0.0319\n",
      "Epoch 89/200\n",
      "167/167 [==============================] - 0s 3ms/step - loss: 0.0031 - mse: 0.0031 - mae: 0.0356 - val_loss: 0.0028 - val_mse: 0.0028 - val_mae: 0.0317\n",
      "Epoch 90/200\n",
      "167/167 [==============================] - 0s 3ms/step - loss: 0.0033 - mse: 0.0033 - mae: 0.0359 - val_loss: 0.0030 - val_mse: 0.0030 - val_mae: 0.0347\n",
      "Epoch 91/200\n",
      "167/167 [==============================] - 0s 3ms/step - loss: 0.0033 - mse: 0.0033 - mae: 0.0362 - val_loss: 0.0029 - val_mse: 0.0029 - val_mae: 0.0346\n",
      "Epoch 92/200\n",
      "167/167 [==============================] - 0s 3ms/step - loss: 0.0033 - mse: 0.0033 - mae: 0.0365 - val_loss: 0.0030 - val_mse: 0.0030 - val_mae: 0.0347\n",
      "Epoch 93/200\n",
      "167/167 [==============================] - 0s 3ms/step - loss: 0.0033 - mse: 0.0033 - mae: 0.0362 - val_loss: 0.0031 - val_mse: 0.0031 - val_mae: 0.0342\n",
      "Epoch 94/200\n",
      "167/167 [==============================] - 0s 3ms/step - loss: 0.0033 - mse: 0.0033 - mae: 0.0370 - val_loss: 0.0030 - val_mse: 0.0030 - val_mae: 0.0332\n",
      "Epoch 95/200\n",
      "167/167 [==============================] - 0s 3ms/step - loss: 0.0034 - mse: 0.0034 - mae: 0.0369 - val_loss: 0.0031 - val_mse: 0.0031 - val_mae: 0.0331\n",
      "Epoch 96/200\n",
      "167/167 [==============================] - 1s 4ms/step - loss: 0.0033 - mse: 0.0033 - mae: 0.0362 - val_loss: 0.0029 - val_mse: 0.0029 - val_mae: 0.0324\n",
      "Epoch 97/200\n",
      "167/167 [==============================] - 1s 4ms/step - loss: 0.0032 - mse: 0.0032 - mae: 0.0355 - val_loss: 0.0031 - val_mse: 0.0031 - val_mae: 0.0329\n",
      "Epoch 98/200\n",
      "167/167 [==============================] - 1s 3ms/step - loss: 0.0034 - mse: 0.0034 - mae: 0.0372 - val_loss: 0.0029 - val_mse: 0.0029 - val_mae: 0.0323\n",
      "Epoch 99/200\n"
     ]
    },
    {
     "name": "stdout",
     "output_type": "stream",
     "text": [
      "167/167 [==============================] - 0s 3ms/step - loss: 0.0032 - mse: 0.0032 - mae: 0.0356 - val_loss: 0.0030 - val_mse: 0.0030 - val_mae: 0.0354\n",
      "Epoch 100/200\n",
      "167/167 [==============================] - 0s 3ms/step - loss: 0.0032 - mse: 0.0032 - mae: 0.0357 - val_loss: 0.0036 - val_mse: 0.0036 - val_mae: 0.0340\n",
      "Epoch 101/200\n",
      "167/167 [==============================] - 0s 3ms/step - loss: 0.0033 - mse: 0.0033 - mae: 0.0363 - val_loss: 0.0032 - val_mse: 0.0032 - val_mae: 0.0393\n",
      "Epoch 102/200\n",
      "167/167 [==============================] - 0s 3ms/step - loss: 0.0032 - mse: 0.0032 - mae: 0.0359 - val_loss: 0.0032 - val_mse: 0.0032 - val_mae: 0.0334\n",
      "Epoch 103/200\n",
      "167/167 [==============================] - 0s 3ms/step - loss: 0.0033 - mse: 0.0033 - mae: 0.0364 - val_loss: 0.0030 - val_mse: 0.0030 - val_mae: 0.0343\n",
      "Epoch 104/200\n",
      "167/167 [==============================] - 0s 3ms/step - loss: 0.0032 - mse: 0.0032 - mae: 0.0354 - val_loss: 0.0031 - val_mse: 0.0031 - val_mae: 0.0338\n",
      "Epoch 105/200\n",
      "167/167 [==============================] - 0s 3ms/step - loss: 0.0034 - mse: 0.0034 - mae: 0.0369 - val_loss: 0.0031 - val_mse: 0.0031 - val_mae: 0.0328\n",
      "Epoch 106/200\n",
      "167/167 [==============================] - 0s 3ms/step - loss: 0.0032 - mse: 0.0032 - mae: 0.0356 - val_loss: 0.0030 - val_mse: 0.0030 - val_mae: 0.0337\n",
      "Epoch 107/200\n",
      "167/167 [==============================] - 0s 3ms/step - loss: 0.0033 - mse: 0.0033 - mae: 0.0364 - val_loss: 0.0035 - val_mse: 0.0035 - val_mae: 0.0377\n",
      "Epoch 108/200\n",
      "167/167 [==============================] - 0s 3ms/step - loss: 0.0033 - mse: 0.0033 - mae: 0.0368 - val_loss: 0.0033 - val_mse: 0.0033 - val_mae: 0.0335\n",
      "Epoch 109/200\n",
      "167/167 [==============================] - 0s 3ms/step - loss: 0.0033 - mse: 0.0033 - mae: 0.0364 - val_loss: 0.0030 - val_mse: 0.0030 - val_mae: 0.0342\n",
      "Epoch 110/200\n",
      "167/167 [==============================] - 0s 3ms/step - loss: 0.0033 - mse: 0.0033 - mae: 0.0364 - val_loss: 0.0029 - val_mse: 0.0029 - val_mae: 0.0318\n",
      "Epoch 111/200\n",
      "167/167 [==============================] - 0s 3ms/step - loss: 0.0032 - mse: 0.0032 - mae: 0.0356 - val_loss: 0.0030 - val_mse: 0.0030 - val_mae: 0.0322\n",
      "Epoch 112/200\n",
      "167/167 [==============================] - 0s 3ms/step - loss: 0.0032 - mse: 0.0032 - mae: 0.0356 - val_loss: 0.0034 - val_mse: 0.0034 - val_mae: 0.0358\n",
      "Epoch 113/200\n",
      "167/167 [==============================] - 0s 3ms/step - loss: 0.0033 - mse: 0.0033 - mae: 0.0365 - val_loss: 0.0029 - val_mse: 0.0029 - val_mae: 0.0323\n",
      "Epoch 114/200\n",
      "167/167 [==============================] - 0s 3ms/step - loss: 0.0032 - mse: 0.0032 - mae: 0.0360 - val_loss: 0.0029 - val_mse: 0.0029 - val_mae: 0.0320\n",
      "Epoch 115/200\n",
      "167/167 [==============================] - 0s 3ms/step - loss: 0.0032 - mse: 0.0032 - mae: 0.0356 - val_loss: 0.0032 - val_mse: 0.0032 - val_mae: 0.0365\n",
      "Epoch 116/200\n",
      "167/167 [==============================] - 0s 3ms/step - loss: 0.0032 - mse: 0.0032 - mae: 0.0357 - val_loss: 0.0031 - val_mse: 0.0031 - val_mae: 0.0328\n",
      "Epoch 117/200\n",
      "167/167 [==============================] - 0s 3ms/step - loss: 0.0033 - mse: 0.0033 - mae: 0.0359 - val_loss: 0.0029 - val_mse: 0.0029 - val_mae: 0.0317\n",
      "Epoch 118/200\n",
      "167/167 [==============================] - 0s 3ms/step - loss: 0.0033 - mse: 0.0033 - mae: 0.0360 - val_loss: 0.0028 - val_mse: 0.0028 - val_mae: 0.0318\n",
      "Epoch 119/200\n",
      "167/167 [==============================] - 0s 3ms/step - loss: 0.0032 - mse: 0.0032 - mae: 0.0356 - val_loss: 0.0030 - val_mse: 0.0030 - val_mae: 0.0327\n",
      "Epoch 120/200\n",
      "167/167 [==============================] - 0s 3ms/step - loss: 0.0032 - mse: 0.0032 - mae: 0.0355 - val_loss: 0.0031 - val_mse: 0.0031 - val_mae: 0.0353\n",
      "Epoch 121/200\n",
      "167/167 [==============================] - 0s 3ms/step - loss: 0.0033 - mse: 0.0033 - mae: 0.0364 - val_loss: 0.0030 - val_mse: 0.0030 - val_mae: 0.0336\n",
      "Epoch 122/200\n",
      "167/167 [==============================] - 0s 3ms/step - loss: 0.0033 - mse: 0.0033 - mae: 0.0360 - val_loss: 0.0029 - val_mse: 0.0029 - val_mae: 0.0324\n",
      "Epoch 123/200\n",
      "167/167 [==============================] - 0s 3ms/step - loss: 0.0032 - mse: 0.0032 - mae: 0.0360 - val_loss: 0.0033 - val_mse: 0.0033 - val_mae: 0.0354\n",
      "Epoch 124/200\n",
      "167/167 [==============================] - 0s 3ms/step - loss: 0.0033 - mse: 0.0033 - mae: 0.0365 - val_loss: 0.0029 - val_mse: 0.0029 - val_mae: 0.0345\n",
      "Epoch 125/200\n",
      "167/167 [==============================] - 0s 3ms/step - loss: 0.0032 - mse: 0.0032 - mae: 0.0358 - val_loss: 0.0031 - val_mse: 0.0031 - val_mae: 0.0337\n",
      "Epoch 126/200\n",
      "167/167 [==============================] - 0s 3ms/step - loss: 0.0032 - mse: 0.0032 - mae: 0.0356 - val_loss: 0.0031 - val_mse: 0.0031 - val_mae: 0.0337\n",
      "Epoch 127/200\n",
      "167/167 [==============================] - 0s 3ms/step - loss: 0.0033 - mse: 0.0033 - mae: 0.0363 - val_loss: 0.0029 - val_mse: 0.0029 - val_mae: 0.0327\n",
      "Epoch 128/200\n",
      "167/167 [==============================] - 0s 3ms/step - loss: 0.0032 - mse: 0.0032 - mae: 0.0357 - val_loss: 0.0030 - val_mse: 0.0030 - val_mae: 0.0334\n",
      "Epoch 129/200\n",
      "167/167 [==============================] - 0s 3ms/step - loss: 0.0033 - mse: 0.0033 - mae: 0.0370 - val_loss: 0.0029 - val_mse: 0.0029 - val_mae: 0.0320\n",
      "Epoch 130/200\n",
      "167/167 [==============================] - 0s 3ms/step - loss: 0.0033 - mse: 0.0033 - mae: 0.0362 - val_loss: 0.0029 - val_mse: 0.0029 - val_mae: 0.0321\n",
      "Epoch 131/200\n",
      "167/167 [==============================] - 0s 3ms/step - loss: 0.0031 - mse: 0.0031 - mae: 0.0353 - val_loss: 0.0029 - val_mse: 0.0029 - val_mae: 0.0317\n",
      "Epoch 132/200\n",
      "167/167 [==============================] - 0s 3ms/step - loss: 0.0033 - mse: 0.0033 - mae: 0.0360 - val_loss: 0.0030 - val_mse: 0.0030 - val_mae: 0.0356\n",
      "Epoch 133/200\n",
      "167/167 [==============================] - 0s 3ms/step - loss: 0.0031 - mse: 0.0031 - mae: 0.0353 - val_loss: 0.0030 - val_mse: 0.0030 - val_mae: 0.0329\n",
      "Epoch 134/200\n",
      "167/167 [==============================] - 0s 3ms/step - loss: 0.0032 - mse: 0.0032 - mae: 0.0360 - val_loss: 0.0030 - val_mse: 0.0030 - val_mae: 0.0326\n",
      "Epoch 135/200\n",
      "167/167 [==============================] - 0s 3ms/step - loss: 0.0032 - mse: 0.0032 - mae: 0.0354 - val_loss: 0.0032 - val_mse: 0.0032 - val_mae: 0.0341\n",
      "Epoch 136/200\n",
      "167/167 [==============================] - 0s 3ms/step - loss: 0.0033 - mse: 0.0033 - mae: 0.0360 - val_loss: 0.0029 - val_mse: 0.0029 - val_mae: 0.0323\n",
      "Epoch 137/200\n",
      "167/167 [==============================] - 0s 3ms/step - loss: 0.0031 - mse: 0.0031 - mae: 0.0355 - val_loss: 0.0030 - val_mse: 0.0030 - val_mae: 0.0356\n",
      "Epoch 138/200\n",
      "167/167 [==============================] - 1s 3ms/step - loss: 0.0033 - mse: 0.0033 - mae: 0.0364 - val_loss: 0.0030 - val_mse: 0.0030 - val_mae: 0.0339\n",
      "Epoch 139/200\n",
      "167/167 [==============================] - 0s 3ms/step - loss: 0.0033 - mse: 0.0033 - mae: 0.0361 - val_loss: 0.0033 - val_mse: 0.0033 - val_mae: 0.0360\n",
      "Epoch 140/200\n",
      "167/167 [==============================] - 0s 3ms/step - loss: 0.0033 - mse: 0.0033 - mae: 0.0361 - val_loss: 0.0034 - val_mse: 0.0034 - val_mae: 0.0340\n",
      "Epoch 141/200\n",
      "167/167 [==============================] - 0s 3ms/step - loss: 0.0033 - mse: 0.0033 - mae: 0.0361 - val_loss: 0.0033 - val_mse: 0.0033 - val_mae: 0.0340\n",
      "Epoch 142/200\n",
      "167/167 [==============================] - 0s 3ms/step - loss: 0.0032 - mse: 0.0032 - mae: 0.0360 - val_loss: 0.0031 - val_mse: 0.0031 - val_mae: 0.0370\n",
      "Epoch 143/200\n",
      "167/167 [==============================] - 0s 3ms/step - loss: 0.0032 - mse: 0.0032 - mae: 0.0361 - val_loss: 0.0031 - val_mse: 0.0031 - val_mae: 0.0366\n",
      "Epoch 144/200\n",
      "167/167 [==============================] - 0s 3ms/step - loss: 0.0032 - mse: 0.0032 - mae: 0.0358 - val_loss: 0.0033 - val_mse: 0.0033 - val_mae: 0.0363\n",
      "Epoch 145/200\n",
      "167/167 [==============================] - 1s 3ms/step - loss: 0.0034 - mse: 0.0034 - mae: 0.0374 - val_loss: 0.0030 - val_mse: 0.0030 - val_mae: 0.0330\n",
      "Epoch 146/200\n",
      "167/167 [==============================] - 1s 4ms/step - loss: 0.0031 - mse: 0.0031 - mae: 0.0351 - val_loss: 0.0028 - val_mse: 0.0028 - val_mae: 0.0318\n",
      "Epoch 147/200\n",
      "167/167 [==============================] - 0s 2ms/step - loss: 0.0033 - mse: 0.0033 - mae: 0.0357 - val_loss: 0.0029 - val_mse: 0.0029 - val_mae: 0.0326\n",
      "Epoch 148/200\n"
     ]
    },
    {
     "name": "stdout",
     "output_type": "stream",
     "text": [
      "167/167 [==============================] - 0s 3ms/step - loss: 0.0033 - mse: 0.0033 - mae: 0.0364 - val_loss: 0.0030 - val_mse: 0.0030 - val_mae: 0.0337\n",
      "Epoch 149/200\n",
      "167/167 [==============================] - 0s 3ms/step - loss: 0.0032 - mse: 0.0032 - mae: 0.0361 - val_loss: 0.0030 - val_mse: 0.0030 - val_mae: 0.0323\n",
      "Epoch 150/200\n",
      "167/167 [==============================] - 0s 3ms/step - loss: 0.0031 - mse: 0.0031 - mae: 0.0353 - val_loss: 0.0032 - val_mse: 0.0032 - val_mae: 0.0377\n",
      "Epoch 151/200\n",
      "167/167 [==============================] - 0s 3ms/step - loss: 0.0032 - mse: 0.0032 - mae: 0.0356 - val_loss: 0.0031 - val_mse: 0.0031 - val_mae: 0.0338\n",
      "Epoch 152/200\n",
      "167/167 [==============================] - 0s 2ms/step - loss: 0.0031 - mse: 0.0031 - mae: 0.0351 - val_loss: 0.0036 - val_mse: 0.0036 - val_mae: 0.0366\n",
      "Epoch 153/200\n",
      "167/167 [==============================] - 0s 2ms/step - loss: 0.0032 - mse: 0.0032 - mae: 0.0358 - val_loss: 0.0031 - val_mse: 0.0031 - val_mae: 0.0328\n",
      "Epoch 154/200\n",
      "167/167 [==============================] - 0s 3ms/step - loss: 0.0032 - mse: 0.0032 - mae: 0.0356 - val_loss: 0.0028 - val_mse: 0.0028 - val_mae: 0.0320\n",
      "Epoch 155/200\n",
      "167/167 [==============================] - 0s 3ms/step - loss: 0.0031 - mse: 0.0031 - mae: 0.0357 - val_loss: 0.0032 - val_mse: 0.0032 - val_mae: 0.0367\n",
      "Epoch 156/200\n",
      "167/167 [==============================] - 0s 3ms/step - loss: 0.0033 - mse: 0.0033 - mae: 0.0362 - val_loss: 0.0030 - val_mse: 0.0030 - val_mae: 0.0351\n",
      "Epoch 157/200\n",
      "167/167 [==============================] - 0s 3ms/step - loss: 0.0031 - mse: 0.0031 - mae: 0.0349 - val_loss: 0.0031 - val_mse: 0.0031 - val_mae: 0.0331\n",
      "Epoch 158/200\n",
      "167/167 [==============================] - 0s 2ms/step - loss: 0.0033 - mse: 0.0033 - mae: 0.0363 - val_loss: 0.0031 - val_mse: 0.0031 - val_mae: 0.0329\n",
      "Epoch 159/200\n",
      "167/167 [==============================] - 0s 3ms/step - loss: 0.0032 - mse: 0.0032 - mae: 0.0355 - val_loss: 0.0031 - val_mse: 0.0031 - val_mae: 0.0346\n",
      "Epoch 160/200\n",
      "167/167 [==============================] - 0s 3ms/step - loss: 0.0032 - mse: 0.0032 - mae: 0.0354 - val_loss: 0.0029 - val_mse: 0.0029 - val_mae: 0.0324\n",
      "Epoch 161/200\n",
      "167/167 [==============================] - 0s 3ms/step - loss: 0.0032 - mse: 0.0032 - mae: 0.0361 - val_loss: 0.0029 - val_mse: 0.0029 - val_mae: 0.0342\n",
      "Epoch 162/200\n",
      "167/167 [==============================] - 0s 3ms/step - loss: 0.0031 - mse: 0.0031 - mae: 0.0353 - val_loss: 0.0030 - val_mse: 0.0030 - val_mae: 0.0321\n",
      "Epoch 163/200\n",
      "167/167 [==============================] - 0s 3ms/step - loss: 0.0032 - mse: 0.0032 - mae: 0.0356 - val_loss: 0.0032 - val_mse: 0.0032 - val_mae: 0.0334\n",
      "Epoch 164/200\n",
      "167/167 [==============================] - 0s 3ms/step - loss: 0.0032 - mse: 0.0032 - mae: 0.0355 - val_loss: 0.0031 - val_mse: 0.0031 - val_mae: 0.0349\n",
      "Epoch 165/200\n",
      "167/167 [==============================] - 0s 3ms/step - loss: 0.0032 - mse: 0.0032 - mae: 0.0355 - val_loss: 0.0030 - val_mse: 0.0030 - val_mae: 0.0328\n",
      "Epoch 166/200\n",
      "167/167 [==============================] - 0s 3ms/step - loss: 0.0031 - mse: 0.0031 - mae: 0.0353 - val_loss: 0.0030 - val_mse: 0.0030 - val_mae: 0.0325\n",
      "Epoch 167/200\n",
      "167/167 [==============================] - 0s 3ms/step - loss: 0.0032 - mse: 0.0032 - mae: 0.0354 - val_loss: 0.0031 - val_mse: 0.0031 - val_mae: 0.0336\n",
      "Epoch 168/200\n",
      "167/167 [==============================] - 0s 3ms/step - loss: 0.0031 - mse: 0.0031 - mae: 0.0357 - val_loss: 0.0030 - val_mse: 0.0030 - val_mae: 0.0343\n",
      "Epoch 169/200\n",
      "167/167 [==============================] - 0s 3ms/step - loss: 0.0032 - mse: 0.0032 - mae: 0.0360 - val_loss: 0.0030 - val_mse: 0.0030 - val_mae: 0.0339\n",
      "Epoch 170/200\n",
      "167/167 [==============================] - 0s 3ms/step - loss: 0.0032 - mse: 0.0032 - mae: 0.0357 - val_loss: 0.0030 - val_mse: 0.0030 - val_mae: 0.0351\n",
      "Epoch 171/200\n",
      "167/167 [==============================] - 0s 3ms/step - loss: 0.0033 - mse: 0.0033 - mae: 0.0365 - val_loss: 0.0031 - val_mse: 0.0031 - val_mae: 0.0335\n",
      "Epoch 172/200\n",
      "167/167 [==============================] - 0s 3ms/step - loss: 0.0032 - mse: 0.0032 - mae: 0.0356 - val_loss: 0.0030 - val_mse: 0.0030 - val_mae: 0.0332\n",
      "Epoch 173/200\n",
      "167/167 [==============================] - 0s 2ms/step - loss: 0.0032 - mse: 0.0032 - mae: 0.0354 - val_loss: 0.0030 - val_mse: 0.0030 - val_mae: 0.0330\n",
      "Epoch 174/200\n",
      "167/167 [==============================] - 0s 2ms/step - loss: 0.0032 - mse: 0.0032 - mae: 0.0351 - val_loss: 0.0033 - val_mse: 0.0033 - val_mae: 0.0401\n",
      "Epoch 175/200\n",
      "167/167 [==============================] - 0s 2ms/step - loss: 0.0033 - mse: 0.0033 - mae: 0.0363 - val_loss: 0.0033 - val_mse: 0.0033 - val_mae: 0.0349\n",
      "Epoch 176/200\n",
      "167/167 [==============================] - 0s 3ms/step - loss: 0.0032 - mse: 0.0032 - mae: 0.0361 - val_loss: 0.0031 - val_mse: 0.0031 - val_mae: 0.0324\n",
      "Epoch 177/200\n",
      "167/167 [==============================] - 1s 3ms/step - loss: 0.0032 - mse: 0.0032 - mae: 0.0357 - val_loss: 0.0032 - val_mse: 0.0032 - val_mae: 0.0328\n",
      "Epoch 178/200\n",
      "167/167 [==============================] - 0s 3ms/step - loss: 0.0032 - mse: 0.0032 - mae: 0.0355 - val_loss: 0.0029 - val_mse: 0.0029 - val_mae: 0.0325\n",
      "Epoch 179/200\n",
      "167/167 [==============================] - 1s 3ms/step - loss: 0.0031 - mse: 0.0031 - mae: 0.0352 - val_loss: 0.0029 - val_mse: 0.0029 - val_mae: 0.0320\n",
      "Epoch 180/200\n",
      "167/167 [==============================] - 0s 2ms/step - loss: 0.0032 - mse: 0.0032 - mae: 0.0357 - val_loss: 0.0031 - val_mse: 0.0031 - val_mae: 0.0332\n",
      "Epoch 181/200\n",
      "167/167 [==============================] - 0s 2ms/step - loss: 0.0032 - mse: 0.0032 - mae: 0.0356 - val_loss: 0.0034 - val_mse: 0.0034 - val_mae: 0.0336\n",
      "Epoch 182/200\n",
      "167/167 [==============================] - 0s 3ms/step - loss: 0.0033 - mse: 0.0033 - mae: 0.0359 - val_loss: 0.0033 - val_mse: 0.0033 - val_mae: 0.0353\n",
      "Epoch 183/200\n",
      "167/167 [==============================] - 0s 3ms/step - loss: 0.0031 - mse: 0.0031 - mae: 0.0357 - val_loss: 0.0036 - val_mse: 0.0036 - val_mae: 0.0387\n",
      "Epoch 184/200\n",
      "167/167 [==============================] - 1s 3ms/step - loss: 0.0033 - mse: 0.0033 - mae: 0.0359 - val_loss: 0.0031 - val_mse: 0.0031 - val_mae: 0.0380\n",
      "Epoch 185/200\n",
      "167/167 [==============================] - 0s 3ms/step - loss: 0.0032 - mse: 0.0032 - mae: 0.0363 - val_loss: 0.0029 - val_mse: 0.0029 - val_mae: 0.0320\n",
      "Epoch 186/200\n",
      "167/167 [==============================] - 0s 2ms/step - loss: 0.0032 - mse: 0.0032 - mae: 0.0358 - val_loss: 0.0029 - val_mse: 0.0029 - val_mae: 0.0322\n",
      "Epoch 187/200\n",
      "167/167 [==============================] - 0s 2ms/step - loss: 0.0033 - mse: 0.0033 - mae: 0.0359 - val_loss: 0.0029 - val_mse: 0.0029 - val_mae: 0.0325\n",
      "Epoch 188/200\n",
      "167/167 [==============================] - 0s 2ms/step - loss: 0.0032 - mse: 0.0032 - mae: 0.0365 - val_loss: 0.0031 - val_mse: 0.0031 - val_mae: 0.0329\n",
      "Epoch 189/200\n",
      "167/167 [==============================] - 0s 3ms/step - loss: 0.0032 - mse: 0.0032 - mae: 0.0360 - val_loss: 0.0031 - val_mse: 0.0031 - val_mae: 0.0379\n",
      "Epoch 190/200\n",
      "167/167 [==============================] - 0s 2ms/step - loss: 0.0031 - mse: 0.0031 - mae: 0.0349 - val_loss: 0.0030 - val_mse: 0.0030 - val_mae: 0.0348\n",
      "Epoch 191/200\n",
      "167/167 [==============================] - 0s 3ms/step - loss: 0.0031 - mse: 0.0031 - mae: 0.0354 - val_loss: 0.0032 - val_mse: 0.0032 - val_mae: 0.0387\n",
      "Epoch 192/200\n",
      "167/167 [==============================] - 0s 3ms/step - loss: 0.0032 - mse: 0.0032 - mae: 0.0356 - val_loss: 0.0031 - val_mse: 0.0031 - val_mae: 0.0331\n",
      "Epoch 193/200\n",
      "167/167 [==============================] - 1s 3ms/step - loss: 0.0031 - mse: 0.0031 - mae: 0.0354 - val_loss: 0.0028 - val_mse: 0.0028 - val_mae: 0.0315\n",
      "Epoch 194/200\n",
      "167/167 [==============================] - 0s 2ms/step - loss: 0.0032 - mse: 0.0032 - mae: 0.0359 - val_loss: 0.0030 - val_mse: 0.0030 - val_mae: 0.0332\n",
      "Epoch 195/200\n",
      "167/167 [==============================] - 0s 2ms/step - loss: 0.0032 - mse: 0.0032 - mae: 0.0359 - val_loss: 0.0030 - val_mse: 0.0030 - val_mae: 0.0339\n",
      "Epoch 196/200\n",
      "167/167 [==============================] - 0s 3ms/step - loss: 0.0032 - mse: 0.0032 - mae: 0.0359 - val_loss: 0.0031 - val_mse: 0.0031 - val_mae: 0.0362\n",
      "Epoch 197/200\n"
     ]
    },
    {
     "name": "stdout",
     "output_type": "stream",
     "text": [
      "167/167 [==============================] - 1s 3ms/step - loss: 0.0033 - mse: 0.0033 - mae: 0.0367 - val_loss: 0.0030 - val_mse: 0.0030 - val_mae: 0.0333\n",
      "Epoch 198/200\n",
      "167/167 [==============================] - 0s 3ms/step - loss: 0.0031 - mse: 0.0031 - mae: 0.0351 - val_loss: 0.0031 - val_mse: 0.0031 - val_mae: 0.0330\n",
      "Epoch 199/200\n",
      "167/167 [==============================] - 0s 3ms/step - loss: 0.0032 - mse: 0.0032 - mae: 0.0358 - val_loss: 0.0029 - val_mse: 0.0029 - val_mae: 0.0321\n",
      "Epoch 200/200\n",
      "167/167 [==============================] - 0s 2ms/step - loss: 0.0032 - mse: 0.0032 - mae: 0.0357 - val_loss: 0.0029 - val_mse: 0.0029 - val_mae: 0.0320\n"
     ]
    }
   ],
   "source": [
    "history = model.fit(train_data,train_tagrt,epochs=200,validation_data=(test_data,test_target))"
   ]
  },
  {
   "cell_type": "code",
   "execution_count": 29,
   "id": "5d300712",
   "metadata": {},
   "outputs": [
    {
     "data": {
      "image/png": "[encoded data removed]",
      "text/plain": [
       "<Figure size 432x288 with 1 Axes>"
      ]
     },
     "metadata": {
      "needs_background": "light"
     },
     "output_type": "display_data"
    }
   ],
   "source": [
    "plt.plot(model.history.history['loss'],label = 'loss')\n",
    "plt.plot(model.history.history['val_loss'],label = 'val_loss')\n",
    "plt.legend()\n",
    "plt.xlabel('epochs')\n",
    "plt.ylabel('loss')\n",
    "plt.show()"
   ]
  },
  {
   "attachments": {
    "image.png": {
     "image/png": "[encoded data removed]"
    }
   },
   "cell_type": "markdown",
   "id": "66e9d9ac",
   "metadata": {},
   "source": [
    "![image.png](attachment:image.png)"
   ]
  },
  {
   "attachments": {
    "image.png": {
     "image/png": "[encoded data removed]"
    }
   },
   "cell_type": "markdown",
   "id": "8c8f7510",
   "metadata": {},
   "source": [
    "![image.png](attachment:image.png)"
   ]
  },
  {
   "attachments": {
    "image.png": {
     "image/png": "[encoded data removed]"
    }
   },
   "cell_type": "markdown",
   "id": "8a6f7003",
   "metadata": {},
   "source": [
    "![image.png](attachment:image.png)"
   ]
  },
  {
   "attachments": {
    "image.png": {
     "image/png": "[encoded data removed]"
    }
   },
   "cell_type": "markdown",
   "id": "f29bb579",
   "metadata": {},
   "source": [
    "![image.png](attachment:image.png)"
   ]
  },
  {
   "cell_type": "code",
   "execution_count": 30,
   "id": "6bb4b4c1",
   "metadata": {},
   "outputs": [
    {
     "name": "stdout",
     "output_type": "stream",
     "text": [
      "r2_score: 0.8856058477753036\n"
     ]
    }
   ],
   "source": [
    "from sklearn.metrics import r2_score\n",
    "\n",
    "predicted_result = model.predict(test_data)\n",
    "r2 = r2_score(test_target,predicted_result)\n",
    "print('r2_score:', r2)"
   ]
  },
  {
   "cell_type": "code",
   "execution_count": 34,
   "id": "e9e98325",
   "metadata": {},
   "outputs": [
    {
     "name": "stdout",
     "output_type": "stream",
     "text": [
      "actual:  [[0.54630715 0.51699883 0.32590856 0.17350528 0.22626026 0.24501758\n",
      "  0.22508792 0.06799531 0.014068   0.05275498]]\n",
      "predicted:  [[0.32696226 0.41480115 0.30902195 0.25965545 0.29969797 0.22156921\n",
      "  0.18280154 0.06373084 0.01202563 0.05968172]]\n"
     ]
    }
   ],
   "source": [
    "print('actual: ',test_target[:10].T)\n",
    "print('predicted: ',predicted_result[:10].T)"
   ]
  },
  {
   "cell_type": "code",
   "execution_count": 35,
   "id": "9ea81086",
   "metadata": {},
   "outputs": [
    {
     "name": "stdout",
     "output_type": "stream",
     "text": [
      "actual inverst scaaled [[46.7 44.2 27.9 14.9 19.4 21.  19.3  5.9  1.3  4.6]]\n",
      "presictec inverst scaaled [[27.989882  35.48254   26.459572  22.24861   25.664236  18.999853\n",
      "  15.692972   5.536241   1.1257864  5.1908507]]\n"
     ]
    }
   ],
   "source": [
    "print('actual inverst scaaled', scaler_target.inverse_transform(test_target[:10].T))\n",
    "print('presictec inverst scaaled', scaler_target.inverse_transform(predicted_result[:10].T))"
   ]
  },
  {
   "cell_type": "code",
   "execution_count": 43,
   "id": "386f8d7e",
   "metadata": {},
   "outputs": [
    {
     "name": "stdout",
     "output_type": "stream",
     "text": [
      "result:  [[0.0223381]]\n",
      "predicted result:  [[2.0054398]]\n"
     ]
    }
   ],
   "source": [
    "my_test_data = [1,56,156,42,0,1,0]\n",
    "\n",
    "my_test_data = scaler_data.transform([my_test_data])\n",
    "\n",
    "result = model.predict(my_test_data)\n",
    "print('result: ',result)\n",
    "\n",
    "predicted = scaler_target.inverse_transform(result)\n",
    "print('predicted result: ',predicted)"
   ]
  },
  {
   "cell_type": "code",
   "execution_count": null,
   "id": "e45990df",
   "metadata": {},
   "outputs": [],
   "source": []
  },
  {
   "cell_type": "code",
   "execution_count": null,
   "id": "c329a7b7",
   "metadata": {},
   "outputs": [],
   "source": []
  }
 ],
 "metadata": {
  "kernelspec": {
   "display_name": "Python 3 (ipykernel)",
   "language": "python",
   "name": "python3"
  },
  "language_info": {
   "codemirror_mode": {
    "name": "ipython",
    "version": 3
   },
   "file_extension": ".py",
   "mimetype": "text/x-python",
   "name": "python",
   "nbconvert_exporter": "python",
   "pygments_lexer": "ipython3",
   "version": "3.9.12"
  }
 },
 "nbformat": 4,
 "nbformat_minor": 5
}
